{
 "cells": [
  {
   "cell_type": "code",
   "execution_count": null,
   "id": "4a58c199",
   "metadata": {},
   "outputs": [],
   "source": [
    "## chương trình tính BMI\n",
    "\n",
    "cc = float(input(\"Nhập vào chiều cao: \"))\n",
    "cn = float(input(\"Nhập vào cân nặng: \"))\n",
    "BMI = cn/(cc**2)\n",
    "if BMI < 16:\n",
    "    print(\"Gầy cấp độ III\")\n",
    "if 16 <= BMI<17 :\n",
    "    print(\"Gầy cấp độ II\")\n",
    "if 17 <= BMI < 18.5:\n",
    "    print(\"Gầy cấp độ I\")\n",
    "if 18.5 <= BMI < 25:\n",
    "    print(\"Bình thường\")\n",
    "if 25 <= BMI < 30:\n",
    "    print(\"Thừa cân\")\n",
    "if 30 <= BMI < 35:\n",
    "    print(\"Béo phì cấp độ I\")\n",
    "if 35 <= BMI < 40:\n",
    "    print(\"Béo phì cấp độ II\")\n",
    "if BMI > 40:\n",
    "    print(\"Béo phì cấp độ III\")"
   ]
  }
 ],
 "metadata": {
  "kernelspec": {
   "display_name": "Python 3 (ipykernel)",
   "language": "python",
   "name": "python3"
  },
  "language_info": {
   "codemirror_mode": {
    "name": "ipython",
    "version": 3
   },
   "file_extension": ".py",
   "mimetype": "text/x-python",
   "name": "python",
   "nbconvert_exporter": "python",
   "pygments_lexer": "ipython3",
   "version": "3.10.5"
  }
 },
 "nbformat": 4,
 "nbformat_minor": 5
}
